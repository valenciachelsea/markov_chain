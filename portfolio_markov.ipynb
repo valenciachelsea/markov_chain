{
 "cells": [
  {
   "cell_type": "code",
   "execution_count": 79,
   "id": "568a3a98-1477-4143-bd8e-d120d2e1cc40",
   "metadata": {},
   "outputs": [],
   "source": [
    "#Import libraries\n",
    "import matplotlib.pyplot as plt\n",
    "import numpy as np\n",
    "import pandas as pd\n",
    "import seaborn as sns"
   ]
  },
  {
   "cell_type": "code",
   "execution_count": 171,
   "id": "fbeaa943-1c82-41c0-bcd3-b8d609ac99a7",
   "metadata": {
    "tags": []
   },
   "outputs": [],
   "source": [
    "#Import dataset\n",
    "journey = pd.read_csv('/Users/chelseavalencia/Desktop/prospect_user_journey_dataset.csv')"
   ]
  },
  {
   "cell_type": "code",
   "execution_count": 189,
   "id": "d296dadf-4024-491a-b8ad-e84994b19e5a",
   "metadata": {
    "tags": []
   },
   "outputs": [],
   "source": [
    "#Create new column indicating if prospect purchased product\n",
    "# journey['purchase'] = np.where(journey['event_name'] == 'Checkout', 1, 0)\n",
    "\n",
    "#Create flag if user completed purchase\n",
    "journey['purchased'] = journey.groupby('user_id')['event_name'].transform(lambda events: 1 if 'Checkout' in events.values else 0)"
   ]
  },
  {
   "cell_type": "code",
   "execution_count": 173,
   "id": "b3679786-9358-4e66-9b51-c2ba60ee37dc",
   "metadata": {
    "tags": []
   },
   "outputs": [],
   "source": [
    "#Select small sample to test code\n",
    "journey_small = journey.head(20)"
   ]
  },
  {
   "cell_type": "code",
   "execution_count": 174,
   "id": "4b989508-6334-4748-b460-1236261c4961",
   "metadata": {
    "tags": []
   },
   "outputs": [],
   "source": [
    "#Sort values by user_id and event timestamp to create sequential order\n",
    "data_sorted = journey_small.sort_values(by=['user_id', 'event_timestamp'])\n",
    "\n",
    "#Group events by the user_id and event_name and convert to list format\n",
    "grouped = data_sorted.groupby('user_id')['event_name'].apply(list)"
   ]
  },
  {
   "cell_type": "code",
   "execution_count": 175,
   "id": "3d1f8c81-5001-4a46-9755-4dfc7bf0323a",
   "metadata": {
    "tags": []
   },
   "outputs": [
    {
     "data": {
      "text/plain": [
       "user_id\n",
       "1    [Add to Cart, View Product, Homepage Visit, Vi...\n",
       "2    [Homepage Visit, View Product, Add to Cart, Vi...\n",
       "3             [View Product, Homepage Visit, Checkout]\n",
       "Name: event_name, dtype: object"
      ]
     },
     "execution_count": 175,
     "metadata": {},
     "output_type": "execute_result"
    }
   ],
   "source": [
    "#View grouped dataframe\n",
    "grouped"
   ]
  },
  {
   "cell_type": "code",
   "execution_count": 177,
   "id": "bbaa15f2-cc7c-498a-b4fb-03b0a8cfb44d",
   "metadata": {
    "tags": []
   },
   "outputs": [],
   "source": [
    "#Convert the Series into a dataframe in order to add a new column\n",
    "grouped = pd.DataFrame(grouped)\n",
    "\n",
    "#Identify users that made a purchase\n",
    "conversion = data_sorted[['user_id', 'purchased']].drop_duplicates(keep = 'first')\n",
    "\n",
    "#Merge grouped dataset with purchase dataset \n",
    "grouped = pd.merge(grouped, conversion, on='user_id', how ='left')"
   ]
  },
  {
   "cell_type": "code",
   "execution_count": 178,
   "id": "9e1f7169-e7fb-4584-9c78-1285f7c63f6d",
   "metadata": {
    "tags": []
   },
   "outputs": [
    {
     "data": {
      "text/html": [
       "<div>\n",
       "<style scoped>\n",
       "    .dataframe tbody tr th:only-of-type {\n",
       "        vertical-align: middle;\n",
       "    }\n",
       "\n",
       "    .dataframe tbody tr th {\n",
       "        vertical-align: top;\n",
       "    }\n",
       "\n",
       "    .dataframe thead th {\n",
       "        text-align: right;\n",
       "    }\n",
       "</style>\n",
       "<table border=\"1\" class=\"dataframe\">\n",
       "  <thead>\n",
       "    <tr style=\"text-align: right;\">\n",
       "      <th></th>\n",
       "      <th>user_id</th>\n",
       "      <th>event_name</th>\n",
       "      <th>purchased</th>\n",
       "    </tr>\n",
       "  </thead>\n",
       "  <tbody>\n",
       "    <tr>\n",
       "      <th>0</th>\n",
       "      <td>1</td>\n",
       "      <td>[Add to Cart, View Product, Homepage Visit, Vi...</td>\n",
       "      <td>0</td>\n",
       "    </tr>\n",
       "    <tr>\n",
       "      <th>1</th>\n",
       "      <td>2</td>\n",
       "      <td>[Homepage Visit, View Product, Add to Cart, Vi...</td>\n",
       "      <td>0</td>\n",
       "    </tr>\n",
       "    <tr>\n",
       "      <th>2</th>\n",
       "      <td>3</td>\n",
       "      <td>[View Product, Homepage Visit, Checkout]</td>\n",
       "      <td>1</td>\n",
       "    </tr>\n",
       "  </tbody>\n",
       "</table>\n",
       "</div>"
      ],
      "text/plain": [
       "   user_id                                         event_name  purchased\n",
       "0        1  [Add to Cart, View Product, Homepage Visit, Vi...          0\n",
       "1        2  [Homepage Visit, View Product, Add to Cart, Vi...          0\n",
       "2        3           [View Product, Homepage Visit, Checkout]          1"
      ]
     },
     "execution_count": 178,
     "metadata": {},
     "output_type": "execute_result"
    }
   ],
   "source": [
    "grouped.head()"
   ]
  },
  {
   "cell_type": "code",
   "execution_count": 179,
   "id": "98a981ef-7175-4f72-aae8-e067c8b4093c",
   "metadata": {
    "tags": []
   },
   "outputs": [],
   "source": [
    "#Create purchase paths\n",
    "#Each path has a beginning point and either ends in a purchase or no purchase\n",
    "grouped['path'] = np.where(\n",
    "    grouped['purchased'] == 0, \n",
    "    ['Start, '] + grouped['event_name'].apply(', '.join) + [', No Purchase'],\n",
    "    ['Start, '] + grouped['event_name'].apply(', '.join) + [', Purchase'])\n",
    "\n",
    "#Split the column contents based on delimited identifier\n",
    "grouped['path'] = grouped['path'].str.split(', ')"
   ]
  },
  {
   "cell_type": "code",
   "execution_count": 180,
   "id": "3a713470-b4c9-4c17-8c7c-289da6961875",
   "metadata": {
    "tags": []
   },
   "outputs": [
    {
     "data": {
      "text/plain": [
       "0    [Start, Add to Cart, View Product, Homepage Vi...\n",
       "1    [Start, Homepage Visit, View Product, Add to C...\n",
       "2    [Start, View Product, Homepage Visit, Checkout...\n",
       "Name: path, dtype: object"
      ]
     },
     "execution_count": 180,
     "metadata": {},
     "output_type": "execute_result"
    }
   ],
   "source": [
    "#QA paths output\n",
    "grouped.path"
   ]
  },
  {
   "cell_type": "code",
   "execution_count": 181,
   "id": "de09229b-b2ed-499c-b00c-dc3ea9732e48",
   "metadata": {
    "tags": []
   },
   "outputs": [
    {
     "name": "stdout",
     "output_type": "stream",
     "text": [
      "{'Start': defaultdict(<class 'int'>, {'Add to Cart': 1, 'Homepage Visit': 1, 'View Product': 1}), 'Add to Cart': defaultdict(<class 'int'>, {'Add to Cart': 5, 'Homepage Visit': 1}), 'View Product': defaultdict(<class 'int'>, {'Add to Cart': 2, 'Homepage Visit': 2, 'View Product': 1}), 'Homepage Visit': defaultdict(<class 'int'>, {'Add to Cart': 4, 'Homepage Visit': 3, 'View Product': 1}), 'Checkout': defaultdict(<class 'int'>, {'View Product': 1})}\n"
     ]
    }
   ],
   "source": [
    "#Initialize nested dictionary to store transition counts \n",
    "#The outer dictionary holds the current state, and the inner dictionary maps to the counts of next states\n",
    "transition_counts = defaultdict(lambda: defaultdict(int))\n",
    "\n",
    "#Iterate through each sequence in the 'path' column of the grouped dataset\n",
    "for sequence in grouped.path:\n",
    "    #Loop through each state in the state in the sequence, up to the last state \n",
    "    for i in range(len(sequence) - 1):\n",
    "        #Identify the current state in the sequence\n",
    "        current_state = sequence[i]\n",
    "        #Identify next state immediately following the current state\n",
    "        next_state = sequence[+1]\n",
    "        #Count of transitions from current state to next state\n",
    "        transition_counts[current_state][next_state] += 1\n",
    "        \n",
    "#Print transition counts\n",
    "print(dict(transition_counts))"
   ]
  },
  {
   "cell_type": "code",
   "execution_count": 182,
   "id": "b8f62908-cb7d-47c4-b549-3c201ad4eba4",
   "metadata": {
    "tags": []
   },
   "outputs": [
    {
     "name": "stdout",
     "output_type": "stream",
     "text": [
      "{'Start': {'Add to Cart': 1, 'Homepage Visit': 1, 'View Product': 1}, 'Add to Cart': {'Add to Cart': 5, 'Homepage Visit': 1}, 'View Product': {'Add to Cart': 2, 'Homepage Visit': 2, 'View Product': 1}, 'Homepage Visit': {'Add to Cart': 4, 'Homepage Visit': 3, 'View Product': 1}, 'Checkout': {'View Product': 1}}\n"
     ]
    }
   ],
   "source": [
    "#Initialize dictionary to prep transition counts for matrix\n",
    "transition_matrix_counts = defaultdict(dict)\n",
    "\n",
    "#Iterate through each state and corresponding transitions in the previously created transition_counts nested dictionary\n",
    "for state, transitions in transition_counts.items():\n",
    "    #Calculate the total number of transitions from the current state\n",
    "    total_transitions = sum(transitions.values())\n",
    "    #Iterate through each next state and the count of transitions from the current state to that state\n",
    "    for next_state, count in transitions.items():\n",
    "        #Count of transitions from the current state to the next state\n",
    "        transition_matrix_counts[state][next_state] = count\n",
    "        \n",
    "#Print matrix transition counts\n",
    "print(dict(transition_matrix_counts))"
   ]
  },
  {
   "cell_type": "code",
   "execution_count": 183,
   "id": "7b13060a-9cf4-4c88-b414-e01613d0c56d",
   "metadata": {
    "tags": []
   },
   "outputs": [],
   "source": [
    "#Identify unique event names in the dataset\n",
    "states = sorted(journey['event_name'].unique())\n",
    "\n",
    "#Create a dataframe to hold the transition counts from a current event to next event\n",
    "transition_df_counts = pd.DataFrame(0, index=states, columns=states, dtype=float)\n",
    "\n",
    "#Iterate through each state and corresponding transitions in the previously created transition_matrix_counts dictionary\n",
    "for state, transitions in transition_matrix_counts.items():\n",
    "    #Iterate through each next state and the count of transitions from the current state to that state\n",
    "    for next_state, count in transitions.items():\n",
    "        #Index transition_df_counts dataframe based on transition and assign count\n",
    "        transition_df_counts.loc[state, next_state] = count\n",
    "\n",
    "#Fill in NA values with 0\n",
    "transition_df_counts.fillna(0, inplace=True)"
   ]
  },
  {
   "cell_type": "code",
   "execution_count": 184,
   "id": "879b89f2-5a90-4beb-8a0b-bba0140f31e9",
   "metadata": {
    "tags": []
   },
   "outputs": [
    {
     "data": {
      "text/html": [
       "<div>\n",
       "<style scoped>\n",
       "    .dataframe tbody tr th:only-of-type {\n",
       "        vertical-align: middle;\n",
       "    }\n",
       "\n",
       "    .dataframe tbody tr th {\n",
       "        vertical-align: top;\n",
       "    }\n",
       "\n",
       "    .dataframe thead th {\n",
       "        text-align: right;\n",
       "    }\n",
       "</style>\n",
       "<table border=\"1\" class=\"dataframe\">\n",
       "  <thead>\n",
       "    <tr style=\"text-align: right;\">\n",
       "      <th></th>\n",
       "      <th>Add to Cart</th>\n",
       "      <th>Checkout</th>\n",
       "      <th>Homepage Visit</th>\n",
       "      <th>Request Product Info</th>\n",
       "      <th>View Product</th>\n",
       "    </tr>\n",
       "  </thead>\n",
       "  <tbody>\n",
       "    <tr>\n",
       "      <th>Add to Cart</th>\n",
       "      <td>5.0</td>\n",
       "      <td>0.0</td>\n",
       "      <td>1.0</td>\n",
       "      <td>0.0</td>\n",
       "      <td>0.0</td>\n",
       "    </tr>\n",
       "    <tr>\n",
       "      <th>Checkout</th>\n",
       "      <td>0.0</td>\n",
       "      <td>0.0</td>\n",
       "      <td>0.0</td>\n",
       "      <td>0.0</td>\n",
       "      <td>1.0</td>\n",
       "    </tr>\n",
       "    <tr>\n",
       "      <th>Homepage Visit</th>\n",
       "      <td>4.0</td>\n",
       "      <td>0.0</td>\n",
       "      <td>3.0</td>\n",
       "      <td>0.0</td>\n",
       "      <td>1.0</td>\n",
       "    </tr>\n",
       "    <tr>\n",
       "      <th>Request Product Info</th>\n",
       "      <td>0.0</td>\n",
       "      <td>0.0</td>\n",
       "      <td>0.0</td>\n",
       "      <td>0.0</td>\n",
       "      <td>0.0</td>\n",
       "    </tr>\n",
       "    <tr>\n",
       "      <th>View Product</th>\n",
       "      <td>2.0</td>\n",
       "      <td>0.0</td>\n",
       "      <td>2.0</td>\n",
       "      <td>0.0</td>\n",
       "      <td>1.0</td>\n",
       "    </tr>\n",
       "    <tr>\n",
       "      <th>Start</th>\n",
       "      <td>1.0</td>\n",
       "      <td>0.0</td>\n",
       "      <td>1.0</td>\n",
       "      <td>0.0</td>\n",
       "      <td>1.0</td>\n",
       "    </tr>\n",
       "  </tbody>\n",
       "</table>\n",
       "</div>"
      ],
      "text/plain": [
       "                      Add to Cart  Checkout  Homepage Visit  \\\n",
       "Add to Cart                   5.0       0.0             1.0   \n",
       "Checkout                      0.0       0.0             0.0   \n",
       "Homepage Visit                4.0       0.0             3.0   \n",
       "Request Product Info          0.0       0.0             0.0   \n",
       "View Product                  2.0       0.0             2.0   \n",
       "Start                         1.0       0.0             1.0   \n",
       "\n",
       "                      Request Product Info  View Product  \n",
       "Add to Cart                            0.0           0.0  \n",
       "Checkout                               0.0           1.0  \n",
       "Homepage Visit                         0.0           1.0  \n",
       "Request Product Info                   0.0           0.0  \n",
       "View Product                           0.0           1.0  \n",
       "Start                                  0.0           1.0  "
      ]
     },
     "execution_count": 184,
     "metadata": {},
     "output_type": "execute_result"
    }
   ],
   "source": [
    "#View transition_df_counts dataframe\n",
    "transition_df_counts"
   ]
  },
  {
   "cell_type": "code",
   "execution_count": 185,
   "id": "67353d84-19a3-4387-a8fe-a18cbd6341c7",
   "metadata": {
    "tags": []
   },
   "outputs": [
    {
     "name": "stdout",
     "output_type": "stream",
     "text": [
      "{'Start': {'Add to Cart': 0.3333333333333333, 'Homepage Visit': 0.3333333333333333, 'View Product': 0.3333333333333333}, 'Add to Cart': {'Add to Cart': 0.8333333333333334, 'Homepage Visit': 0.16666666666666666}, 'View Product': {'Add to Cart': 0.4, 'Homepage Visit': 0.4, 'View Product': 0.2}, 'Homepage Visit': {'Add to Cart': 0.5, 'Homepage Visit': 0.375, 'View Product': 0.125}, 'Checkout': {'View Product': 1.0}}\n"
     ]
    }
   ],
   "source": [
    "#Initialize dictionary to prep for matrix\n",
    "transition_matrix = defaultdict(dict)\n",
    "\n",
    "#Iterate through each state and corresponding transitions in the previously created transition_counts dictionary\n",
    "for state, transitions in transition_counts.items():\n",
    "    #Calculate the total number of transitions from the current state\n",
    "    total_transitions = sum(transitions.values())\n",
    "    #Iterate through each next state and the count of transitions from the current state to that state\n",
    "    for next_state, count in transitions.items():\n",
    "        #Calcluate probability of transitioning from current state to next state\n",
    "        transition_matrix[state][next_state] = count / total_transitions\n",
    "\n",
    "#Print matrix transition counts\n",
    "print(dict(transition_matrix))"
   ]
  },
  {
   "cell_type": "code",
   "execution_count": 186,
   "id": "e40a3309-a1d7-4444-8e9b-f2dc33e0962a",
   "metadata": {
    "tags": []
   },
   "outputs": [],
   "source": [
    "#Identify unique event names in the dataset\n",
    "states = sorted(journey['event_name'].unique())\n",
    "\n",
    "#Create a dataframe to hold the transitions from a current event to next event\n",
    "transition_df = pd.DataFrame(0, index=states, columns=states, dtype=float)\n",
    "\n",
    "#Iterate through each state and corresponding transitions in the previously created transition_matrix dictionary\n",
    "for state, transitions in transition_matrix.items():\n",
    "    #Iterate through each next state and probability of transitioning from current state\n",
    "    for next_state, prob in transitions.items():\n",
    "        #Index transition_df dataframe based on transition and assign probability\n",
    "        transition_df.loc[state, next_state] = round(prob,3)\n",
    "        \n",
    "#Fill NA values with 0 \n",
    "transition_df.fillna(0, inplace=True)"
   ]
  },
  {
   "cell_type": "code",
   "execution_count": 187,
   "id": "fcb9de59-02f9-4305-978a-9e78557f05ca",
   "metadata": {
    "tags": []
   },
   "outputs": [
    {
     "data": {
      "text/plain": [
       "<Axes: >"
      ]
     },
     "execution_count": 187,
     "metadata": {},
     "output_type": "execute_result"
    },
    {
     "data": {
      "image/png": "[encoded data removed]",
      "text/plain": [
       "<Figure size 2000x1000 with 2 Axes>"
      ]
     },
     "metadata": {},
     "output_type": "display_data"
    }
   ],
   "source": [
    "#Create plot figure\n",
    "plt.figure(figsize=(20,10))\n",
    "\n",
    "#Create heatmap based on transition probabilities\n",
    "sns.heatmap(transition_df, annot=True, cmap=\"Greens\")"
   ]
  },
  {
   "cell_type": "code",
   "execution_count": 188,
   "id": "02874f0d-b5b2-4d59-b9c3-36c495905cfc",
   "metadata": {
    "tags": []
   },
   "outputs": [
    {
     "data": {
      "text/plain": [
       "<Axes: >"
      ]
     },
     "execution_count": 188,
     "metadata": {},
     "output_type": "execute_result"
    },
    {
     "data": {
      "image/png": "[encoded data removed]",
      "text/plain": [
       "<Figure size 2000x1000 with 2 Axes>"
      ]
     },
     "metadata": {},
     "output_type": "display_data"
    }
   ],
   "source": [
    "#Create plot figure\n",
    "plt.figure(figsize=(20,10))\n",
    "\n",
    "#Create heatmap based on transition values\n",
    "sns.heatmap(transition_df_counts, annot=True, fmt=\".0f\", cmap=\"Greens\")"
   ]
  },
  {
   "cell_type": "code",
   "execution_count": null,
   "id": "93a4d8b4-6fa4-43b9-bbf4-56d5f6b7dc55",
   "metadata": {},
   "outputs": [],
   "source": [
    "list_of_paths = grouped['path']\n",
    "\n",
    "total_conversions = sum(path.count('conversion') for path in grouped['path'].tolist())\n",
    "\n",
    "base_conversion_rate = total_conversions / len(list_of_paths)"
   ]
  },
  {
   "cell_type": "code",
   "execution_count": 120,
   "id": "eebf08c8-e0ef-4324-824b-c014a94e66b1",
   "metadata": {
    "tags": []
   },
   "outputs": [
    {
     "ename": "AttributeError",
     "evalue": "'DataFrame' object has no attribute 'Conversion'",
     "output_type": "error",
     "traceback": [
      "\u001b[0;31m---------------------------------------------------------------------------\u001b[0m",
      "\u001b[0;31mAttributeError\u001b[0m                            Traceback (most recent call last)",
      "Cell \u001b[0;32mIn[120], line 11\u001b[0m\n\u001b[1;32m      9\u001b[0m     new_df \u001b[38;5;241m=\u001b[39m transition_df_counts\u001b[38;5;241m.\u001b[39mdrop(event, axis\u001b[38;5;241m=\u001b[39m\u001b[38;5;241m1\u001b[39m)\u001b[38;5;241m.\u001b[39mdrop(event, axis\u001b[38;5;241m=\u001b[39m\u001b[38;5;241m0\u001b[39m)\n\u001b[1;32m     10\u001b[0m     \u001b[38;5;66;03m#Calculate new purchase rate\u001b[39;00m\n\u001b[0;32m---> 11\u001b[0m     new_conversion \u001b[38;5;241m=\u001b[39m new_df\u001b[38;5;241m.\u001b[39mConversion\u001b[38;5;241m.\u001b[39msum() \u001b[38;5;241m/\u001b[39m new_df\u001b[38;5;241m.\u001b[39mloc[\u001b[38;5;124m'\u001b[39m\u001b[38;5;124mStart\u001b[39m\u001b[38;5;124m'\u001b[39m][\u001b[38;5;124m'\u001b[39m\u001b[38;5;124mTotal\u001b[39m\u001b[38;5;124m'\u001b[39m]\n\u001b[1;32m     12\u001b[0m \u001b[38;5;66;03m#Add value to removal_effects dictionary   \u001b[39;00m\n\u001b[1;32m     13\u001b[0m removal_effects_dict[event] \u001b[38;5;241m=\u001b[39m new_conversion\n",
      "File \u001b[0;32m~/anaconda3/lib/python3.11/site-packages/pandas/core/generic.py:5902\u001b[0m, in \u001b[0;36mNDFrame.__getattr__\u001b[0;34m(self, name)\u001b[0m\n\u001b[1;32m   5895\u001b[0m \u001b[38;5;28;01mif\u001b[39;00m (\n\u001b[1;32m   5896\u001b[0m     name \u001b[38;5;129;01mnot\u001b[39;00m \u001b[38;5;129;01min\u001b[39;00m \u001b[38;5;28mself\u001b[39m\u001b[38;5;241m.\u001b[39m_internal_names_set\n\u001b[1;32m   5897\u001b[0m     \u001b[38;5;129;01mand\u001b[39;00m name \u001b[38;5;129;01mnot\u001b[39;00m \u001b[38;5;129;01min\u001b[39;00m \u001b[38;5;28mself\u001b[39m\u001b[38;5;241m.\u001b[39m_metadata\n\u001b[1;32m   5898\u001b[0m     \u001b[38;5;129;01mand\u001b[39;00m name \u001b[38;5;129;01mnot\u001b[39;00m \u001b[38;5;129;01min\u001b[39;00m \u001b[38;5;28mself\u001b[39m\u001b[38;5;241m.\u001b[39m_accessors\n\u001b[1;32m   5899\u001b[0m     \u001b[38;5;129;01mand\u001b[39;00m \u001b[38;5;28mself\u001b[39m\u001b[38;5;241m.\u001b[39m_info_axis\u001b[38;5;241m.\u001b[39m_can_hold_identifiers_and_holds_name(name)\n\u001b[1;32m   5900\u001b[0m ):\n\u001b[1;32m   5901\u001b[0m     \u001b[38;5;28;01mreturn\u001b[39;00m \u001b[38;5;28mself\u001b[39m[name]\n\u001b[0;32m-> 5902\u001b[0m \u001b[38;5;28;01mreturn\u001b[39;00m \u001b[38;5;28mobject\u001b[39m\u001b[38;5;241m.\u001b[39m\u001b[38;5;21m__getattribute__\u001b[39m(\u001b[38;5;28mself\u001b[39m, name)\n",
      "\u001b[0;31mAttributeError\u001b[0m: 'DataFrame' object has no attribute 'Conversion'"
     ]
    }
   ],
   "source": [
    "#Initialize dictionary to hold value of removing specific stage\n",
    "removal_effects_dict = {}\n",
    "\n",
    "#Iterate through each event in the transition_df_counts dataframe\n",
    "for event in transition_df_counts.index:\n",
    "    #Skip \"Start\", \"No Purchase\" and \"Purchase\" events\n",
    "    if event not in ('Start', 'No Purchase', 'Purchase'):\n",
    "        #Create new dataframe to hold values excluding the dropped event\n",
    "        new_df = transition_df_counts.drop(event, axis=1).drop(event, axis=0)\n",
    "        #Calculate new purchase rate\n",
    "        new_conversion = new_df.purchase.sum() / new_df.loc['Start']['Purchase']\n",
    "    #Add value to removal_effects dictionary   \n",
    "    removal_effects_dict[event] = new_conversion"
   ]
  },
  {
   "cell_type": "code",
   "execution_count": null,
   "id": "24928be4-92e0-4a11-8134-819bf49baed3",
   "metadata": {},
   "outputs": [],
   "source": [
    "#Convert items in removal_effects dictionary to a dataframe\n",
    "removal_df = pd.DataFrame(removal_effects_dict.items())\n",
    "\n",
    "# removal_df_filtered = removal_df.sort_values(1, ascending = True).head(20)\n",
    "\n",
    "#Create bar chart to visualize change in purchase rate with specific states removed\n",
    "removal_df_filtered.plot.bar(x=0, y=1, figsize(20,5),\n",
    "                             title = \"Purchase Rate based on Dropout Stage\"\n",
    "                             ylabel = \"Purchase Rate\"\n",
    "                             xlabel = \"State Removed from Model\")                             "
   ]
  },
  {
   "cell_type": "code",
   "execution_count": null,
   "id": "1dc9f439-cab3-4c11-9c3f-46b815a5e8a6",
   "metadata": {},
   "outputs": [],
   "source": [
    "# dropout_counts = {}\n",
    "# dropout_state = ['Null']\n",
    "\n",
    "# for state in transition_df.index:\n",
    "#     dropout_counts[state] = transition_df.loc[state, dropout_state].sum()"
   ]
  },
  {
   "cell_type": "code",
   "execution_count": null,
   "id": "db9457a2-30ef-45a0-9b9b-fc3acfdf9b0b",
   "metadata": {},
   "outputs": [],
   "source": [
    "# #Removal effect\n",
    "# removal_effects_dict = {}\n",
    "\n",
    "# #turn transition counts into dataframe\n",
    "# for event in transition_df.index:\n",
    "#     if event not in ('Start', 'Null', 'Conversion'):\n",
    "#         new_df = transition_df.drop(event, axis=1).drop(event, axis=0)\n",
    "#         new_conversion = sum(new_df['Conversion'])\n",
    "#     removal_effects_dict[event] = new_conversion"
   ]
  }
 ],
 "metadata": {
  "kernelspec": {
   "display_name": "Python 3 (ipykernel)",
   "language": "python",
   "name": "python3"
  },
  "language_info": {
   "codemirror_mode": {
    "name": "ipython",
    "version": 3
   },
   "file_extension": ".py",
   "mimetype": "text/x-python",
   "name": "python",
   "nbconvert_exporter": "python",
   "pygments_lexer": "ipython3",
   "version": "3.11.3"
  }
 },
 "nbformat": 4,
 "nbformat_minor": 5
}
