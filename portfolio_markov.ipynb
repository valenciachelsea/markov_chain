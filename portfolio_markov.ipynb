{
 "cells": [
  {
   "cell_type": "code",
   "execution_count": 2,
   "id": "568a3a98-1477-4143-bd8e-d120d2e1cc40",
   "metadata": {},
   "outputs": [],
   "source": [
    "#Import libraries\n",
    "import matplotlib.pyplot as plt\n",
    "import numpy as np\n",
    "import pandas as pd\n",
    "import seaborn as sns\n",
    "from sklearn.model_selection import train_test_split, cross_val_score\n",
    "from sklearn.metrics import accuracy_score, confusion_matrix, classification_report, roc_curve, auc\n",
    "\n",
    "#Classifier libraries\n",
    "from sklearn.linear_model import LogisticRegression\n",
    "from collections import defaultdict"
   ]
  },
  {
   "cell_type": "code",
   "execution_count": 3,
   "id": "fbeaa943-1c82-41c0-bcd3-b8d609ac99a7",
   "metadata": {
    "tags": []
   },
   "outputs": [],
   "source": [
    "#read in dataset"
   ]
  },
  {
   "cell_type": "code",
   "execution_count": null,
   "id": "4b989508-6334-4748-b460-1236261c4961",
   "metadata": {},
   "outputs": [],
   "source": [
    "data_sorted = population.sort_values(by=id)\n",
    "\n",
    "grouped = data_sorted.grouby('id')['event_name'].apply(list)"
   ]
  },
  {
   "cell_type": "code",
   "execution_count": null,
   "id": "bbaa15f2-cc7c-498a-b4fb-03b0a8cfb44d",
   "metadata": {},
   "outputs": [],
   "source": [
    "#Convert the Series into a dataframe in order to add a new column\n",
    "grouped = pd.DataFrame(grouped)\n",
    "\n",
    "#Get user id and conversion flag from original dataframe\n",
    "conversion = data_sorted[['id', 'conversion']].drop_duplicates(keep = 'first')\n",
    "\n",
    "#merge the two dataframes together using id\n",
    "grouped = pd.merge(grouped, conversion, on='id', how ='left')"
   ]
  },
  {
   "cell_type": "code",
   "execution_count": null,
   "id": "98a981ef-7175-4f72-aae8-e067c8b4093c",
   "metadata": {},
   "outputs": [],
   "source": [
    "grouped['path'] = np.where(\n",
    "    grouped['conversion'] == 0, \n",
    "    ['Start, '] + grouped['final_event_name'].apply(', '.join) + [', Null'],\n",
    "    ['Start, '] + grouped['final_event_name'].apply(', '.join) + [', Conversion'])\n",
    "\n",
    "grouped['path'] = grouped['path'].str.split(', ')"
   ]
  },
  {
   "cell_type": "code",
   "execution_count": null,
   "id": "41e8576a-9fe0-49e2-95a8-cc4b36ae7a97",
   "metadata": {},
   "outputs": [],
   "source": [
    "list_of_paths = grouped['path']\n",
    "\n",
    "total_conversions = sum(path.count('Conversion') for path in grouped['path'].tolist())\n",
    "\n",
    "base_conversion_rate = total_conversions / len(list_of_paths)"
   ]
  },
  {
   "cell_type": "code",
   "execution_count": null,
   "id": "de09229b-b2ed-499c-b00c-dc3ea9732e48",
   "metadata": {},
   "outputs": [],
   "source": [
    "#initialize dictionary\n",
    "transition_counts = defaultdict(lambda: defaultdict(int))\n",
    "\n",
    "#create loop\n",
    "for sequence in grouped.path:\n",
    "    for i in range(len(sequence - 1):\n",
    "        current_state = sequence[i]\n",
    "        next_state = sequence[+1]\n",
    "        transition_counts[current_state][next_state] += 1\n",
    "                   \n",
    "    print(dict(transition_counts))"
   ]
  },
  {
   "cell_type": "code",
   "execution_count": null,
   "id": "b8f62908-cb7d-47c4-b549-3c201ad4eba4",
   "metadata": {},
   "outputs": [],
   "source": [
    "transition_matrix_counts = defaultdict(dict)\n",
    "\n",
    "#Get counts for each state conversion\n",
    "for state, transitions in transition_counts.items():\n",
    "    total_transitions = sum(transition.values())\n",
    "    for next_state, count in transition.items():\n",
    "        transition_matrix_counts[state][next_state] = count\n",
    "print(dict(transition_matrix_counts))"
   ]
  },
  {
   "cell_type": "code",
   "execution_count": null,
   "id": "7b13060a-9cf4-4c88-b414-e01613d0c56d",
   "metadata": {},
   "outputs": [],
   "source": [
    "states = sorted(population['final_event_name'].unique())\n",
    "\n",
    "transition_df_counts = pd.DataFrame(0, index=states, column=states, dtype=float)\n",
    "\n",
    "for state, transitions in transition_matrix_counts.items():\n",
    "    for next_state, count in transition_items():\n",
    "        transition_df_counts.loc[state, next_state] = count\n",
    "\n",
    "transition_df_counts.fillna(0, inplace=True)"
   ]
  },
  {
   "cell_type": "code",
   "execution_count": null,
   "id": "879b89f2-5a90-4beb-8a0b-bba0140f31e9",
   "metadata": {},
   "outputs": [],
   "source": [
    "transition_df_counts['Total'] = transition_df_counts.sum(axis=1)\n",
    "transition_df_counts['No Conversion'] = transition_df_counts['Total'] - transition_df_counts['Conversion']"
   ]
  },
  {
   "cell_type": "code",
   "execution_count": null,
   "id": "67353d84-19a3-4387-a8fe-a18cbd6341c7",
   "metadata": {},
   "outputs": [],
   "source": [
    "transition_matrix = defaultdict(dict)\n",
    "\n",
    "for state, transitions in transition_counts.items():\n",
    "    total_transitions = sum(transitions.values())\n",
    "    for next_state, count in transitions.items():\n",
    "        transition_matrix[state][next_state] = count / total_transitions\n",
    "\n",
    "print(dict(transition_matrix))"
   ]
  },
  {
   "cell_type": "code",
   "execution_count": null,
   "id": "e40a3309-a1d7-4444-8e9b-f2dc33e0962a",
   "metadata": {},
   "outputs": [],
   "source": [
    "states = sorted(population['final_event_name'].unique())\n",
    "\n",
    "transition_df = pd.DataFrame(0, index=states, column=states, dtype=float)\n",
    "\n",
    "for state, transitions in transition_matrix.items():\n",
    "    for next_state, prob in transition_items():\n",
    "        transition_df.loc[state, next_state] = round(prob,3)"
   ]
  },
  {
   "cell_type": "code",
   "execution_count": null,
   "id": "fcb9de59-02f9-4305-978a-9e78557f05ca",
   "metadata": {},
   "outputs": [],
   "source": [
    "transition_df.fillna(0, inplace=True)\n",
    "\n",
    "plt.figure(figsize=(20,10))\n",
    "sns.heatmap(transition_df, annot=True, cmap=\"Greens\")"
   ]
  },
  {
   "cell_type": "code",
   "execution_count": null,
   "id": "02874f0d-b5b2-4d59-b9c3-36c495905cfc",
   "metadata": {},
   "outputs": [],
   "source": [
    "plt.figure(figsize=(20,10))\n",
    "sns.heatmap(transition_df_counts, annot=True, fmt=\".0f\", cmap=\"Greens\")"
   ]
  },
  {
   "cell_type": "code",
   "execution_count": null,
   "id": "eebf08c8-e0ef-4324-824b-c014a94e66b1",
   "metadata": {},
   "outputs": [],
   "source": [
    "#Removal effect\n",
    "removal_effects_dict = {}\n",
    "\n",
    "#turn transition counts into dataframe\n",
    "for event in transition_df_counts.index:\n",
    "    if event not in ('Start', 'Null', 'Conversion'):\n",
    "        new_df = transition_df_counts.drop(event, axis=1).drop(event, axis=0)\n",
    "        new_conversion = new_df.Conversion.sum() / new_df.loc['Start']['Total']\n",
    "    removal_effects_dict[event] = new_conversion"
   ]
  },
  {
   "cell_type": "code",
   "execution_count": null,
   "id": "24928be4-92e0-4a11-8134-819bf49baed3",
   "metadata": {},
   "outputs": [],
   "source": [
    "removal_df = pd.DataFrame(removal_effects_dict.items())\n",
    "removal_df_filtered = removal_df.sort_values(1, ascending = True).head(20)\n",
    "\n",
    "removal_df_filtered.plot.bar(x=0, y=1, figsize(20,5),\n",
    "                             title = \"Conversion Rate based on Dropout Stage\"\n",
    "                             ylabel = \"Conversion Rate\"\n",
    "                             xlabel = \"Stage Removed from Model\")                             "
   ]
  },
  {
   "cell_type": "code",
   "execution_count": null,
   "id": "1dc9f439-cab3-4c11-9c3f-46b815a5e8a6",
   "metadata": {},
   "outputs": [],
   "source": [
    "dropout_counts = {}\n",
    "dropout_state = ['Null']\n",
    "\n",
    "for state in transition_df.index:\n",
    "    dropout_counts[state] = transition_df.loc[state, dropout_state].sum()"
   ]
  },
  {
   "cell_type": "code",
   "execution_count": null,
   "id": "db9457a2-30ef-45a0-9b9b-fc3acfdf9b0b",
   "metadata": {},
   "outputs": [],
   "source": [
    "#Removal effect\n",
    "removal_effects_dict = {}\n",
    "\n",
    "#turn transition counts into dataframe\n",
    "for event in transition_df.index:\n",
    "    if event not in ('Start', 'Null', 'Conversion'):\n",
    "        new_df = transition_df.drop(event, axis=1).drop(event, axis=0)\n",
    "        new_conversion = sum(new_df['Conversion'])\n",
    "    removal_effects_dict[event] = new_conversion"
   ]
  }
 ],
 "metadata": {
  "kernelspec": {
   "display_name": "Python 3 (ipykernel)",
   "language": "python",
   "name": "python3"
  },
  "language_info": {
   "codemirror_mode": {
    "name": "ipython",
    "version": 3
   },
   "file_extension": ".py",
   "mimetype": "text/x-python",
   "name": "python",
   "nbconvert_exporter": "python",
   "pygments_lexer": "ipython3",
   "version": "3.11.3"
  }
 },
 "nbformat": 4,
 "nbformat_minor": 5
}
