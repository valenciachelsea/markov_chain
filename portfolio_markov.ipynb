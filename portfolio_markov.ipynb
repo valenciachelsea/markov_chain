{
 "cells": [
  {
   "cell_type": "code",
   "execution_count": 40,
   "id": "568a3a98-1477-4143-bd8e-d120d2e1cc40",
   "metadata": {},
   "outputs": [],
   "source": [
    "#Import libraries\n",
    "import matplotlib.pyplot as plt\n",
    "import numpy as np\n",
    "import pandas as pd\n",
    "import seaborn as sns\n",
    "import random\n",
    "from datetime import datetime, timedelta\n",
    "from collections import defaultdict"
   ]
  },
  {
   "cell_type": "code",
   "execution_count": 7,
   "id": "58bcd0e6-ce93-4df7-a73c-845d594f5902",
   "metadata": {
    "tags": []
   },
   "outputs": [
    {
     "name": "stdout",
     "output_type": "stream",
     "text": [
      "<class 'pandas.core.frame.DataFrame'>\n",
      "RangeIndex: 22763 entries, 0 to 22762\n",
      "Data columns (total 4 columns):\n",
      " #   Column           Non-Null Count  Dtype         \n",
      "---  ------           --------------  -----         \n",
      " 0   user_id          22763 non-null  object        \n",
      " 1   event            22763 non-null  int64         \n",
      " 2   event_timestamp  22763 non-null  datetime64[ns]\n",
      " 3   event_name       22763 non-null  object        \n",
      "dtypes: datetime64[ns](1), int64(1), object(2)\n",
      "memory usage: 711.5+ KB\n"
     ]
    },
    {
     "data": {
      "text/plain": [
       "(     user_id  event            event_timestamp      event_name\n",
       " 0  user_2350      4 2024-12-07 19:27:40.329543     Add to Cart\n",
       " 1  user_2402      1 2024-12-07 16:33:40.330341  Homepage Visit\n",
       " 2  user_1870      4 2024-12-07 16:57:40.322747     Add to Cart\n",
       " 3  user_4975      1 2024-12-07 16:33:40.441404  Homepage Visit\n",
       " 4  user_2905      4 2024-12-07 18:06:40.340591     Add to Cart,\n",
       " None,\n",
       " 5000)"
      ]
     },
     "execution_count": 7,
     "metadata": {},
     "output_type": "execute_result"
    }
   ],
   "source": [
    "# Set random seed for reproducibility\n",
    "random.seed(42)\n",
    "np.random.seed(42)\n",
    "\n",
    "# Define parameters\n",
    "num_rows = 50000\n",
    "max_interactions_per_user = 10\n",
    "\n",
    "# Generate random number of unique user IDs (ensure it's less than num_rows)\n",
    "num_unique_users = num_rows // max_interactions_per_user\n",
    "user_ids = [f\"user_{i}\" for i in range(1, num_unique_users + 1)]\n",
    "\n",
    "# Define event names for user journey\n",
    "event_names = [\n",
    "    \"Homepage Visit\",\n",
    "    \"Product View\",\n",
    "    \"Product Details View\",\n",
    "    \"Add to Cart\",\n",
    "    \"Checkout\",\n",
    "    \"Purchase\"\n",
    "]\n",
    "\n",
    "# Create the dataset\n",
    "data = []\n",
    "for user_id in user_ids:\n",
    "    # Random number of interactions per user (minimum 1, maximum 10)\n",
    "    num_interactions = random.randint(1, max_interactions_per_user)\n",
    "    start_time = datetime.now() - timedelta(days=30)  # Start timestamp 30 days ago\n",
    "\n",
    "    for i in range(num_interactions):\n",
    "        # Event names should build towards \"Purchase\"\n",
    "        event_name = event_names[min(i, len(event_names) - 1)]\n",
    "\n",
    "        # Append row to the dataset\n",
    "        data.append({\n",
    "            \"user_id\": user_id,\n",
    "            \"event\": i + 1,\n",
    "            \"event_timestamp\": start_time + timedelta(minutes=i * random.randint(1, 60)),\n",
    "            \"event_name\": event_name\n",
    "        })\n",
    "\n",
    "        # Stop at \"Purchase\" to ensure sequential logic\n",
    "        if event_name == \"Purchase\":\n",
    "            break\n",
    "\n",
    "# Convert to DataFrame\n",
    "df = pd.DataFrame(data)\n",
    "\n",
    "# Shuffle the rows to mimic realistic, non-ordered data\n",
    "df = df.sample(frac=1, random_state=42).reset_index(drop=True)"
   ]
  },
  {
   "cell_type": "code",
   "execution_count": null,
   "id": "fbe8f8ee-9255-4c08-8c74-caba65ad5fd2",
   "metadata": {},
   "outputs": [],
   "source": [
    "# # Calculate the number of users who should have made a purchase\n",
    "# num_purchasers = int(0.026 * len(user_ids))\n",
    "\n",
    "# # Select 5% of the users randomly to have made a purchase\n",
    "# purchasers = set(random.sample(user_ids, num_purchasers))\n",
    "\n",
    "# # Update the dataset to ensure only these users have the \"Purchase\" event\n",
    "# filtered_data = []\n",
    "# for _, row in df.iterrows():\n",
    "#     if row[\"event_name\"] == \"Purchase\":\n",
    "#         if row[\"user_id\"] in purchasers:\n",
    "#             filtered_data.append(row)\n",
    "#     else:\n",
    "#         filtered_data.append(row)\n",
    "\n",
    "# # Create a new DataFrame from the filtered data\n",
    "# df_filtered = pd.DataFrame(filtered_data)\n",
    "\n",
    "# # Ensure data consistency by resetting indices\n",
    "# df_filtered = df_filtered.reset_index(drop=True)\n",
    "\n",
    "# # Validate the result\n",
    "# purchase_count = df_filtered[df_filtered[\"event_name\"] == \"Purchase\"][\"user_id\"].nunique()\n",
    "# total_users = df_filtered[\"user_id\"].nunique()\n",
    "\n",
    "# df_filtered.head(), purchase_count, total_users, (purchase_count / total_users) * 100"
   ]
  },
  {
   "cell_type": "code",
   "execution_count": 28,
   "id": "fbeaa943-1c82-41c0-bcd3-b8d609ac99a7",
   "metadata": {
    "tags": []
   },
   "outputs": [],
   "source": [
    "#Import dataset\n",
    "# journey = pd.read_csv('/Users/chelseavalencia/Desktop/prospect_user_journey_dataset.csv')\n",
    "\n",
    "journey = df"
   ]
  },
  {
   "cell_type": "code",
   "execution_count": 29,
   "id": "d296dadf-4024-491a-b8ad-e84994b19e5a",
   "metadata": {
    "tags": []
   },
   "outputs": [],
   "source": [
    "#Create new column indicating if prospect purchased product\n",
    "# journey['purchase'] = np.where(journey['event_name'] == 'Checkout', 1, 0)\n",
    "\n",
    "#Create flag if user completed purchase\n",
    "journey['purchased'] = journey.groupby('user_id')['event_name'].transform(lambda events: 1 if 'Purchase' in events.values else 0)"
   ]
  },
  {
   "cell_type": "code",
   "execution_count": 61,
   "id": "b3679786-9358-4e66-9b51-c2ba60ee37dc",
   "metadata": {
    "tags": []
   },
   "outputs": [],
   "source": [
    "#Select small sample to test code\n",
    "journey_small = journey.sort_values(by='user_id').head(20)"
   ]
  },
  {
   "cell_type": "code",
   "execution_count": 62,
   "id": "4b989508-6334-4748-b460-1236261c4961",
   "metadata": {
    "tags": []
   },
   "outputs": [],
   "source": [
    "#Sort values by user_id and event timestamp to create sequential order\n",
    "data_sorted = journey_small.sort_values(by=['user_id', 'event_timestamp'])\n",
    "\n",
    "#Group events by the user_id and event_name and convert to list format\n",
    "grouped = data_sorted.groupby('user_id')['event_name'].apply(list)"
   ]
  },
  {
   "cell_type": "code",
   "execution_count": 63,
   "id": "3d1f8c81-5001-4a46-9755-4dfc7bf0323a",
   "metadata": {
    "tags": []
   },
   "outputs": [
    {
     "data": {
      "text/plain": [
       "user_id\n",
       "user_1                                                              [Homepage Visit, Product View]\n",
       "user_10                                                             [Homepage Visit, Product View]\n",
       "user_100               [Homepage Visit, Product View, Product Details View, Add to Cart, Checkout]\n",
       "user_1000    [Homepage Visit, Product View, Product Details View, Add to Cart, Purchase, Checkout]\n",
       "user_1001                          [Homepage Visit, Add to Cart, Product View, Checkout, Purchase]\n",
       "Name: event_name, dtype: object"
      ]
     },
     "execution_count": 63,
     "metadata": {},
     "output_type": "execute_result"
    }
   ],
   "source": [
    "#View grouped dataframe\n",
    "grouped"
   ]
  },
  {
   "cell_type": "code",
   "execution_count": 65,
   "id": "bbaa15f2-cc7c-498a-b4fb-03b0a8cfb44d",
   "metadata": {
    "tags": []
   },
   "outputs": [],
   "source": [
    "#Convert the Series into a dataframe in order to add a new column\n",
    "grouped = pd.DataFrame(grouped)\n",
    "\n",
    "#Identify users that made a purchase\n",
    "conversion = data_sorted[['user_id', 'purchased']].drop_duplicates(keep = 'first')\n",
    "\n",
    "#Merge grouped dataset with purchase dataset \n",
    "grouped = pd.merge(grouped, conversion, on='user_id', how ='left')"
   ]
  },
  {
   "cell_type": "code",
   "execution_count": 66,
   "id": "9e1f7169-e7fb-4584-9c78-1285f7c63f6d",
   "metadata": {
    "tags": []
   },
   "outputs": [
    {
     "data": {
      "text/html": [
       "<div>\n",
       "<style scoped>\n",
       "    .dataframe tbody tr th:only-of-type {\n",
       "        vertical-align: middle;\n",
       "    }\n",
       "\n",
       "    .dataframe tbody tr th {\n",
       "        vertical-align: top;\n",
       "    }\n",
       "\n",
       "    .dataframe thead th {\n",
       "        text-align: right;\n",
       "    }\n",
       "</style>\n",
       "<table border=\"1\" class=\"dataframe\">\n",
       "  <thead>\n",
       "    <tr style=\"text-align: right;\">\n",
       "      <th></th>\n",
       "      <th>user_id</th>\n",
       "      <th>event_name</th>\n",
       "      <th>purchased</th>\n",
       "    </tr>\n",
       "  </thead>\n",
       "  <tbody>\n",
       "    <tr>\n",
       "      <th>0</th>\n",
       "      <td>user_1</td>\n",
       "      <td>[Homepage Visit, Product View]</td>\n",
       "      <td>0</td>\n",
       "    </tr>\n",
       "    <tr>\n",
       "      <th>1</th>\n",
       "      <td>user_10</td>\n",
       "      <td>[Homepage Visit, Product View]</td>\n",
       "      <td>0</td>\n",
       "    </tr>\n",
       "    <tr>\n",
       "      <th>2</th>\n",
       "      <td>user_100</td>\n",
       "      <td>[Homepage Visit, Product View, Product Details View, Add to Cart, Checkout]</td>\n",
       "      <td>0</td>\n",
       "    </tr>\n",
       "    <tr>\n",
       "      <th>3</th>\n",
       "      <td>user_1000</td>\n",
       "      <td>[Homepage Visit, Product View, Product Details View, Add to Cart, Purchase, Checkout]</td>\n",
       "      <td>1</td>\n",
       "    </tr>\n",
       "    <tr>\n",
       "      <th>4</th>\n",
       "      <td>user_1001</td>\n",
       "      <td>[Homepage Visit, Add to Cart, Product View, Checkout, Purchase]</td>\n",
       "      <td>1</td>\n",
       "    </tr>\n",
       "  </tbody>\n",
       "</table>\n",
       "</div>"
      ],
      "text/plain": [
       "     user_id  \\\n",
       "0     user_1   \n",
       "1    user_10   \n",
       "2   user_100   \n",
       "3  user_1000   \n",
       "4  user_1001   \n",
       "\n",
       "                                                                              event_name  \\\n",
       "0                                                         [Homepage Visit, Product View]   \n",
       "1                                                         [Homepage Visit, Product View]   \n",
       "2            [Homepage Visit, Product View, Product Details View, Add to Cart, Checkout]   \n",
       "3  [Homepage Visit, Product View, Product Details View, Add to Cart, Purchase, Checkout]   \n",
       "4                        [Homepage Visit, Add to Cart, Product View, Checkout, Purchase]   \n",
       "\n",
       "   purchased  \n",
       "0          0  \n",
       "1          0  \n",
       "2          0  \n",
       "3          1  \n",
       "4          1  "
      ]
     },
     "execution_count": 66,
     "metadata": {},
     "output_type": "execute_result"
    }
   ],
   "source": [
    "grouped.head()"
   ]
  },
  {
   "cell_type": "code",
   "execution_count": 68,
   "id": "98a981ef-7175-4f72-aae8-e067c8b4093c",
   "metadata": {
    "tags": []
   },
   "outputs": [],
   "source": [
    "#Create purchase paths\n",
    "#Each path has a beginning point and either ends in a purchase or no purchase\n",
    "grouped['path'] = np.where(\n",
    "    grouped['purchased'] == 0, \n",
    "    ['Start, '] + grouped['event_name'].apply(', '.join) + [', No Purchase'],\n",
    "    ['Start, '] + grouped['event_name'].apply(', '.join) + [', Purchase'])\n",
    "\n",
    "#Split the column contents based on delimited identifier\n",
    "grouped['path'] = grouped['path'].str.split(', ')"
   ]
  },
  {
   "cell_type": "code",
   "execution_count": 69,
   "id": "3a713470-b4c9-4c17-8c7c-289da6961875",
   "metadata": {
    "tags": []
   },
   "outputs": [
    {
     "data": {
      "text/plain": [
       "0                                                        [Start, Homepage Visit, Product View, No Purchase]\n",
       "1                                                        [Start, Homepage Visit, Product View, No Purchase]\n",
       "2           [Start, Homepage Visit, Product View, Product Details View, Add to Cart, Checkout, No Purchase]\n",
       "3    [Start, Homepage Visit, Product View, Product Details View, Add to Cart, Purchase, Checkout, Purchase]\n",
       "4                          [Start, Homepage Visit, Add to Cart, Product View, Checkout, Purchase, Purchase]\n",
       "Name: path, dtype: object"
      ]
     },
     "execution_count": 69,
     "metadata": {},
     "output_type": "execute_result"
    }
   ],
   "source": [
    "#QA paths output\n",
    "pd.set_option('display.max_colwidth', 200)\n",
    "grouped.path"
   ]
  },
  {
   "cell_type": "code",
   "execution_count": 71,
   "id": "de09229b-b2ed-499c-b00c-dc3ea9732e48",
   "metadata": {
    "tags": []
   },
   "outputs": [
    {
     "data": {
      "text/plain": [
       "{'Start': defaultdict(int, {'Homepage Visit': 5}),\n",
       " 'Homepage Visit': defaultdict(int, {'Product View': 4, 'Add to Cart': 1}),\n",
       " 'Product View': defaultdict(int,\n",
       "             {'No Purchase': 2, 'Product Details View': 2, 'Checkout': 1}),\n",
       " 'Product Details View': defaultdict(int, {'Add to Cart': 2}),\n",
       " 'Add to Cart': defaultdict(int,\n",
       "             {'Checkout': 1, 'Purchase': 1, 'Product View': 1}),\n",
       " 'Checkout': defaultdict(int, {'No Purchase': 1, 'Purchase': 2}),\n",
       " 'Purchase': defaultdict(int, {'Checkout': 1, 'Purchase': 1})}"
      ]
     },
     "execution_count": 71,
     "metadata": {},
     "output_type": "execute_result"
    }
   ],
   "source": [
    "#Initialize nested dictionary to store transition counts \n",
    "#The outer dictionary holds the current state, and the inner dictionary maps to the counts of next states\n",
    "transition_counts = defaultdict(lambda: defaultdict(int))\n",
    "\n",
    "#Iterate through each sequence in the 'path' column of the grouped dataset\n",
    "for sequence in grouped.path:\n",
    "    #Loop through each state in the state in the sequence, up to the last state \n",
    "    for i in range(len(sequence) - 1):\n",
    "        #Identify the current state in the sequence\n",
    "        current_state = sequence[i]\n",
    "        #Identify next state immediately following the current state\n",
    "        next_state = sequence[i+1]\n",
    "        #Count of transitions from current state to next state\n",
    "        transition_counts[current_state][next_state] += 1\n",
    "        \n",
    "#Print transition counts\n",
    "dict(transition_counts)"
   ]
  },
  {
   "cell_type": "code",
   "execution_count": 72,
   "id": "b8f62908-cb7d-47c4-b549-3c201ad4eba4",
   "metadata": {
    "tags": []
   },
   "outputs": [
    {
     "name": "stdout",
     "output_type": "stream",
     "text": [
      "{'Start': {'Homepage Visit': 5}, 'Homepage Visit': {'Product View': 4, 'Add to Cart': 1}, 'Product View': {'No Purchase': 2, 'Product Details View': 2, 'Checkout': 1}, 'Product Details View': {'Add to Cart': 2}, 'Add to Cart': {'Checkout': 1, 'Purchase': 1, 'Product View': 1}, 'Checkout': {'No Purchase': 1, 'Purchase': 2}, 'Purchase': {'Checkout': 1, 'Purchase': 1}}\n"
     ]
    }
   ],
   "source": [
    "#Initialize dictionary to prep transition counts for matrix\n",
    "transition_matrix_counts = defaultdict(dict)\n",
    "\n",
    "#Iterate through each state and corresponding transitions in the previously created transition_counts nested dictionary\n",
    "for state, transitions in transition_counts.items():\n",
    "    #Calculate the total number of transitions from the current state\n",
    "    total_transitions = sum(transitions.values())\n",
    "    #Iterate through each next state and the count of transitions from the current state to that state\n",
    "    for next_state, count in transitions.items():\n",
    "        #Count of transitions from the current state to the next state\n",
    "        transition_matrix_counts[state][next_state] = count\n",
    "        \n",
    "#Print matrix transition counts\n",
    "print(dict(transition_matrix_counts))"
   ]
  },
  {
   "cell_type": "code",
   "execution_count": 73,
   "id": "7b13060a-9cf4-4c88-b414-e01613d0c56d",
   "metadata": {
    "tags": []
   },
   "outputs": [],
   "source": [
    "#Identify unique event names in the dataset\n",
    "states = sorted(journey['event_name'].unique())\n",
    "\n",
    "#Create a dataframe to hold the transition counts from a current event to next event\n",
    "transition_df_counts = pd.DataFrame(0, index=states, columns=states, dtype=float)\n",
    "\n",
    "#Iterate through each state and corresponding transitions in the previously created transition_matrix_counts dictionary\n",
    "for state, transitions in transition_matrix_counts.items():\n",
    "    #Iterate through each next state and the count of transitions from the current state to that state\n",
    "    for next_state, count in transitions.items():\n",
    "        #Index transition_df_counts dataframe based on transition and assign count\n",
    "        transition_df_counts.loc[state, next_state] = count\n",
    "\n",
    "#Fill in NA values with 0\n",
    "transition_df_counts.fillna(0, inplace=True)"
   ]
  },
  {
   "cell_type": "code",
   "execution_count": 75,
   "id": "879b89f2-5a90-4beb-8a0b-bba0140f31e9",
   "metadata": {
    "tags": []
   },
   "outputs": [
    {
     "data": {
      "text/html": [
       "<div>\n",
       "<style scoped>\n",
       "    .dataframe tbody tr th:only-of-type {\n",
       "        vertical-align: middle;\n",
       "    }\n",
       "\n",
       "    .dataframe tbody tr th {\n",
       "        vertical-align: top;\n",
       "    }\n",
       "\n",
       "    .dataframe thead th {\n",
       "        text-align: right;\n",
       "    }\n",
       "</style>\n",
       "<table border=\"1\" class=\"dataframe\">\n",
       "  <thead>\n",
       "    <tr style=\"text-align: right;\">\n",
       "      <th></th>\n",
       "      <th>Add to Cart</th>\n",
       "      <th>Checkout</th>\n",
       "      <th>Homepage Visit</th>\n",
       "      <th>Product Details View</th>\n",
       "      <th>Product View</th>\n",
       "      <th>Purchase</th>\n",
       "      <th>No Purchase</th>\n",
       "    </tr>\n",
       "  </thead>\n",
       "  <tbody>\n",
       "    <tr>\n",
       "      <th>Add to Cart</th>\n",
       "      <td>0.0</td>\n",
       "      <td>1.0</td>\n",
       "      <td>0.0</td>\n",
       "      <td>0.0</td>\n",
       "      <td>1.0</td>\n",
       "      <td>1.0</td>\n",
       "      <td>0.0</td>\n",
       "    </tr>\n",
       "    <tr>\n",
       "      <th>Checkout</th>\n",
       "      <td>0.0</td>\n",
       "      <td>0.0</td>\n",
       "      <td>0.0</td>\n",
       "      <td>0.0</td>\n",
       "      <td>0.0</td>\n",
       "      <td>2.0</td>\n",
       "      <td>1.0</td>\n",
       "    </tr>\n",
       "    <tr>\n",
       "      <th>Homepage Visit</th>\n",
       "      <td>1.0</td>\n",
       "      <td>0.0</td>\n",
       "      <td>0.0</td>\n",
       "      <td>0.0</td>\n",
       "      <td>4.0</td>\n",
       "      <td>0.0</td>\n",
       "      <td>0.0</td>\n",
       "    </tr>\n",
       "    <tr>\n",
       "      <th>Product Details View</th>\n",
       "      <td>2.0</td>\n",
       "      <td>0.0</td>\n",
       "      <td>0.0</td>\n",
       "      <td>0.0</td>\n",
       "      <td>0.0</td>\n",
       "      <td>0.0</td>\n",
       "      <td>0.0</td>\n",
       "    </tr>\n",
       "    <tr>\n",
       "      <th>Product View</th>\n",
       "      <td>0.0</td>\n",
       "      <td>1.0</td>\n",
       "      <td>0.0</td>\n",
       "      <td>2.0</td>\n",
       "      <td>0.0</td>\n",
       "      <td>0.0</td>\n",
       "      <td>2.0</td>\n",
       "    </tr>\n",
       "    <tr>\n",
       "      <th>Purchase</th>\n",
       "      <td>0.0</td>\n",
       "      <td>1.0</td>\n",
       "      <td>0.0</td>\n",
       "      <td>0.0</td>\n",
       "      <td>0.0</td>\n",
       "      <td>1.0</td>\n",
       "      <td>0.0</td>\n",
       "    </tr>\n",
       "    <tr>\n",
       "      <th>Start</th>\n",
       "      <td>0.0</td>\n",
       "      <td>0.0</td>\n",
       "      <td>5.0</td>\n",
       "      <td>0.0</td>\n",
       "      <td>0.0</td>\n",
       "      <td>0.0</td>\n",
       "      <td>0.0</td>\n",
       "    </tr>\n",
       "  </tbody>\n",
       "</table>\n",
       "</div>"
      ],
      "text/plain": [
       "                      Add to Cart  Checkout  Homepage Visit  \\\n",
       "Add to Cart                   0.0       1.0             0.0   \n",
       "Checkout                      0.0       0.0             0.0   \n",
       "Homepage Visit                1.0       0.0             0.0   \n",
       "Product Details View          2.0       0.0             0.0   \n",
       "Product View                  0.0       1.0             0.0   \n",
       "Purchase                      0.0       1.0             0.0   \n",
       "Start                         0.0       0.0             5.0   \n",
       "\n",
       "                      Product Details View  Product View  Purchase  \\\n",
       "Add to Cart                            0.0           1.0       1.0   \n",
       "Checkout                               0.0           0.0       2.0   \n",
       "Homepage Visit                         0.0           4.0       0.0   \n",
       "Product Details View                   0.0           0.0       0.0   \n",
       "Product View                           2.0           0.0       0.0   \n",
       "Purchase                               0.0           0.0       1.0   \n",
       "Start                                  0.0           0.0       0.0   \n",
       "\n",
       "                      No Purchase  \n",
       "Add to Cart                   0.0  \n",
       "Checkout                      1.0  \n",
       "Homepage Visit                0.0  \n",
       "Product Details View          0.0  \n",
       "Product View                  2.0  \n",
       "Purchase                      0.0  \n",
       "Start                         0.0  "
      ]
     },
     "execution_count": 75,
     "metadata": {},
     "output_type": "execute_result"
    }
   ],
   "source": [
    "#View transition_df_counts dataframe\n",
    "transition_df_counts"
   ]
  },
  {
   "cell_type": "code",
   "execution_count": 76,
   "id": "67353d84-19a3-4387-a8fe-a18cbd6341c7",
   "metadata": {
    "tags": []
   },
   "outputs": [
    {
     "name": "stdout",
     "output_type": "stream",
     "text": [
      "{'Start': {'Homepage Visit': 1.0}, 'Homepage Visit': {'Product View': 0.8, 'Add to Cart': 0.2}, 'Product View': {'No Purchase': 0.4, 'Product Details View': 0.4, 'Checkout': 0.2}, 'Product Details View': {'Add to Cart': 1.0}, 'Add to Cart': {'Checkout': 0.3333333333333333, 'Purchase': 0.3333333333333333, 'Product View': 0.3333333333333333}, 'Checkout': {'No Purchase': 0.3333333333333333, 'Purchase': 0.6666666666666666}, 'Purchase': {'Checkout': 0.5, 'Purchase': 0.5}}\n"
     ]
    }
   ],
   "source": [
    "#Initialize dictionary to prep for matrix\n",
    "transition_matrix = defaultdict(dict)\n",
    "\n",
    "#Iterate through each state and corresponding transitions in the previously created transition_counts dictionary\n",
    "for state, transitions in transition_counts.items():\n",
    "    #Calculate the total number of transitions from the current state\n",
    "    total_transitions = sum(transitions.values())\n",
    "    #Iterate through each next state and the count of transitions from the current state to that state\n",
    "    for next_state, count in transitions.items():\n",
    "        #Calcluate probability of transitioning from current state to next state\n",
    "        transition_matrix[state][next_state] = count / total_transitions\n",
    "\n",
    "#Print matrix transition counts\n",
    "print(dict(transition_matrix))"
   ]
  },
  {
   "cell_type": "code",
   "execution_count": 77,
   "id": "e40a3309-a1d7-4444-8e9b-f2dc33e0962a",
   "metadata": {
    "tags": []
   },
   "outputs": [],
   "source": [
    "#Identify unique event names in the dataset\n",
    "states = sorted(journey['event_name'].unique())\n",
    "\n",
    "#Create a dataframe to hold the transitions from a current event to next event\n",
    "transition_df = pd.DataFrame(0, index=states, columns=states, dtype=float)\n",
    "\n",
    "#Iterate through each state and corresponding transitions in the previously created transition_matrix dictionary\n",
    "for state, transitions in transition_matrix.items():\n",
    "    #Iterate through each next state and probability of transitioning from current state\n",
    "    for next_state, prob in transitions.items():\n",
    "        #Index transition_df dataframe based on transition and assign probability\n",
    "        transition_df.loc[state, next_state] = round(prob,3)\n",
    "        \n",
    "#Fill NA values with 0 \n",
    "transition_df.fillna(0, inplace=True)"
   ]
  },
  {
   "cell_type": "code",
   "execution_count": 78,
   "id": "fcb9de59-02f9-4305-978a-9e78557f05ca",
   "metadata": {
    "tags": []
   },
   "outputs": [
    {
     "data": {
      "text/plain": [
       "<Axes: >"
      ]
     },
     "execution_count": 78,
     "metadata": {},
     "output_type": "execute_result"
    },
    {
     "data": {
      "image/png": "[encoded data removed]",
      "text/plain": [
       "<Figure size 2000x1000 with 2 Axes>"
      ]
     },
     "metadata": {},
     "output_type": "display_data"
    }
   ],
   "source": [
    "#Create plot figure\n",
    "plt.figure(figsize=(20,10))\n",
    "\n",
    "#Create heatmap based on transition probabilities\n",
    "sns.heatmap(transition_df, annot=True, cmap=\"Greens\")"
   ]
  },
  {
   "cell_type": "code",
   "execution_count": 79,
   "id": "02874f0d-b5b2-4d59-b9c3-36c495905cfc",
   "metadata": {
    "tags": []
   },
   "outputs": [
    {
     "data": {
      "text/plain": [
       "<Axes: >"
      ]
     },
     "execution_count": 79,
     "metadata": {},
     "output_type": "execute_result"
    },
    {
     "data": {
      "image/png": "[encoded data removed]",
      "text/plain": [
       "<Figure size 2000x1000 with 2 Axes>"
      ]
     },
     "metadata": {},
     "output_type": "display_data"
    }
   ],
   "source": [
    "#Create plot figure\n",
    "plt.figure(figsize=(20,10))\n",
    "\n",
    "#Create heatmap based on transition values\n",
    "sns.heatmap(transition_df_counts, annot=True, fmt=\".0f\", cmap=\"Greens\")"
   ]
  },
  {
   "cell_type": "code",
   "execution_count": 83,
   "id": "93a4d8b4-6fa4-43b9-bbf4-56d5f6b7dc55",
   "metadata": {},
   "outputs": [
    {
     "name": "stdout",
     "output_type": "stream",
     "text": [
      "0.8\n"
     ]
    }
   ],
   "source": [
    "#Identify total number of purchases in dataset\n",
    "total_purchases = sum(path.count('Purchase') for path in grouped['path'].tolist())\n",
    "\n",
    "#Create a purchase rate\n",
    "base_purchase_rate = total_conversions / len(list_of_paths)\n",
    "\n",
    "print(base_purchase_rate)"
   ]
  },
  {
   "cell_type": "code",
   "execution_count": 86,
   "id": "eebf08c8-e0ef-4324-824b-c014a94e66b1",
   "metadata": {
    "tags": []
   },
   "outputs": [],
   "source": [
    "#Initialize dictionary to hold value of removing specific stage\n",
    "removal_effects_dict = {}\n",
    "\n",
    "#Iterate through each event in the transition_df_counts dataframe\n",
    "for event in transition_df_counts.index:\n",
    "    #Skip \"Start\", \"No Purchase\" and \"Purchase\" events\n",
    "    if event not in ('Start', 'No Purchase', 'Purchase'):\n",
    "        #Create new dataframe to hold values excluding the dropped event\n",
    "        new_df = transition_df_counts.drop(event, axis=1).drop(event, axis=0)\n",
    "        #Calculate new purchase rate\n",
    "        new_conversion = new_df.Purchase.sum() / len(new_df)\n",
    "    #Add value to removal_effects dictionary   \n",
    "    removal_effects_dict[event] = new_conversion"
   ]
  },
  {
   "cell_type": "code",
   "execution_count": 96,
   "id": "24928be4-92e0-4a11-8134-819bf49baed3",
   "metadata": {},
   "outputs": [
    {
     "data": {
      "text/plain": [
       "<Axes: title={'center': 'Purchase Rate based on Dropout Stage'}, xlabel='State Removed from Model', ylabel='Purchase Rate'>"
      ]
     },
     "execution_count": 96,
     "metadata": {},
     "output_type": "execute_result"
    },
    {
     "data": {
      "image/png": "[encoded data removed]",
      "text/plain": [
       "<Figure size 640x480 with 1 Axes>"
      ]
     },
     "metadata": {},
     "output_type": "display_data"
    }
   ],
   "source": [
    "#Convert items in removal_effects dictionary to a dataframe\n",
    "removal_df = pd.DataFrame(removal_effects_dict.items())\n",
    "\n",
    "#Create bar chart to visualize change in purchase rate with specific states removed\n",
    "removal_df.plot.bar(x=0, y=1, title = \"Purchase Rate based on Dropout Stage\", ylabel = \"Purchase Rate\", xlabel = \"State Removed from Model\")                       "
   ]
  }
 ],
 "metadata": {
  "kernelspec": {
   "display_name": "Python 3 (ipykernel)",
   "language": "python",
   "name": "python3"
  },
  "language_info": {
   "codemirror_mode": {
    "name": "ipython",
    "version": 3
   },
   "file_extension": ".py",
   "mimetype": "text/x-python",
   "name": "python",
   "nbconvert_exporter": "python",
   "pygments_lexer": "ipython3",
   "version": "3.11.3"
  }
 },
 "nbformat": 4,
 "nbformat_minor": 5
}
